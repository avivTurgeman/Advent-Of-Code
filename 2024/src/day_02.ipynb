{
 "cells": [
  {
   "cell_type": "markdown",
   "id": "e60abd3c",
   "metadata": {},
   "source": [
    "https://adventofcode.com/2024/day/6\n",
    "# General input variables"
   ]
  },
  {
   "cell_type": "code",
   "execution_count": null,
   "id": "75aac2ec",
   "metadata": {},
   "outputs": [],
   "source": [
    "import os\n",
    "import sys\n",
    "notebook_dir = os.getcwd()\n",
    "sys.path.append(os.path.abspath(os.path.join(notebook_dir, '../../package')))\n",
    "import input_modules\n",
    "\n",
    "input_modules.write_input(2024, 2)"
   ]
  },
  {
   "cell_type": "code",
   "execution_count": 4,
   "id": "bf567e22-520a-4334-a913-78d5250d7317",
   "metadata": {},
   "outputs": [],
   "source": [
    "puzzle_inputs = []\n",
    "with open(\"../inputs/02.txt\", 'r') as file:\n",
    "    for line in file:\n",
    "        puzzle_inputs.append(line.split())\n",
    "\n",
    "for line in puzzle_inputs:\n",
    "    for i, num in enumerate(line):\n",
    "        line[i] = int(num)"
   ]
  },
  {
   "cell_type": "markdown",
   "id": "38be4799-e962-48c9-8675-51fd86354590",
   "metadata": {},
   "source": [
    "### --- Part One ---"
   ]
  },
  {
   "cell_type": "code",
   "execution_count": 5,
   "id": "6c0df4df-2877-4bad-a274-4b4e3c782f96",
   "metadata": {},
   "outputs": [
    {
     "data": {
      "text/plain": [
       "639"
      ]
     },
     "execution_count": 5,
     "metadata": {},
     "output_type": "execute_result"
    }
   ],
   "source": [
    "def is_differ_by_up_to_3(line):\n",
    "    for i in range(len(line) - 1):\n",
    "        if abs(line[i] - line[i+1]) > 3:\n",
    "            return False\n",
    "    return True\n",
    "\n",
    "def is_increasing_or_decreasing(line):\n",
    "    if len(line) == 0:\n",
    "        return is_differ_by_up_to_3(line)\n",
    "    escalator = 1 if line[0] < line[1] else -1 if line[0] > line[1] else 0\n",
    "    if escalator == 0:\n",
    "        return False\n",
    "    if escalator > 0:\n",
    "        for i in range(len(line) - 1):\n",
    "            if line[i] >= line[i+1]:\n",
    "                return False\n",
    "    else:\n",
    "        for i in range(len(line) - 1):\n",
    "            if line[i] <= line[i+1]:\n",
    "                return False\n",
    "    return is_differ_by_up_to_3(line)\n",
    "\n",
    "\n",
    "\n",
    "safe_reports = 0\n",
    "for line in puzzle_inputs:\n",
    "    if is_increasing_or_decreasing(line):\n",
    "        safe_reports += 1\n",
    "\n",
    "safe_reports"
   ]
  },
  {
   "cell_type": "markdown",
   "id": "bc408032-26d9-4c2c-ba34-dd3f0ffbc982",
   "metadata": {},
   "source": [
    "### --- Part Two ---"
   ]
  },
  {
   "cell_type": "code",
   "execution_count": 6,
   "id": "4ecc547a-16d1-4013-a5aa-7b0093350ae5",
   "metadata": {},
   "outputs": [
    {
     "data": {
      "text/plain": [
       "674"
      ]
     },
     "execution_count": 6,
     "metadata": {},
     "output_type": "execute_result"
    }
   ],
   "source": [
    "def is_increasing_or_decreasing_dampener(line):\n",
    "    if is_increasing_or_decreasing(line):\n",
    "        return True\n",
    "    \n",
    "    for i in range(len(line)):\n",
    "        if is_increasing_or_decreasing(line[:i] + line[i+1:]):\n",
    "            return True\n",
    "    return False\n",
    "\n",
    "\n",
    "\n",
    "safe_dampener_reports = 0\n",
    "\n",
    "for line in puzzle_inputs:\n",
    "    if is_increasing_or_decreasing_dampener(line):\n",
    "        safe_dampener_reports += 1\n",
    "\n",
    "safe_dampener_reports"
   ]
  }
 ],
 "metadata": {
  "kernelspec": {
   "display_name": "Python 3",
   "language": "python",
   "name": "python3"
  },
  "language_info": {
   "codemirror_mode": {
    "name": "ipython",
    "version": 3
   },
   "file_extension": ".py",
   "mimetype": "text/x-python",
   "name": "python",
   "nbconvert_exporter": "python",
   "pygments_lexer": "ipython3",
   "version": "3.12.5"
  }
 },
 "nbformat": 4,
 "nbformat_minor": 5
}
