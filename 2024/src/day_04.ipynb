{
 "cells": [
  {
   "cell_type": "markdown",
   "id": "13ad0953",
   "metadata": {},
   "source": [
    "# General input variables"
   ]
  },
  {
   "cell_type": "code",
   "execution_count": 2,
   "id": "5d575103",
   "metadata": {},
   "outputs": [],
   "source": [
    "puzzle_lines = []\n",
    "with open(\"../inputs/04.txt\", 'r') as file:\n",
    "    for line in file:\n",
    "        puzzle_lines.append(line.strip())"
   ]
  },
  {
   "cell_type": "markdown",
   "id": "dd5d33fb",
   "metadata": {},
   "source": [
    "### --- Part One ---"
   ]
  },
  {
   "cell_type": "code",
   "execution_count": 3,
   "id": "0e8d3bfc",
   "metadata": {},
   "outputs": [
    {
     "data": {
      "text/plain": [
       "2427"
      ]
     },
     "execution_count": 3,
     "metadata": {},
     "output_type": "execute_result"
    }
   ],
   "source": [
    "def check_xmas(grid, row, column, symbol, direction, iterations):\n",
    "    if symbol == \"S\":\n",
    "        return True\n",
    "    \n",
    "    if iterations >= 4:\n",
    "        return False\n",
    "\n",
    "    rows, columns = range(len(grid)), range(len(grid[row]))\n",
    "    movements = {\n",
    "    \"Up\": (-1, 0),\n",
    "    \"Down\": (1, 0),\n",
    "    \"Left\": (0, -1),\n",
    "    \"Right\": (0, 1),\n",
    "    \"Up Left\": (-1, -1),\n",
    "    \"Up Right\": (-1, 1),\n",
    "    \"Down Left\": (1, -1),\n",
    "    \"Down Right\": (1, 1),\n",
    "    }\n",
    "\n",
    "    if direction not in movements:\n",
    "        raise ValueError(f\"direction provided ({direction}) not compatible\")\n",
    "    \n",
    "    d_row, d_column = movements[direction]\n",
    "    new_row, new_column = row + d_row, column + d_column\n",
    "    \n",
    "    if new_row in rows and new_column in columns:\n",
    "        next_symbol = grid[new_row][new_column]\n",
    "        if 'XMAS'.find(next_symbol) == 'XMAS'.find(symbol) + 1:\n",
    "            iteration = iterations + 1\n",
    "            return check_xmas(grid, new_row, new_column, next_symbol, direction, iteration)\n",
    "\n",
    "    return False\n",
    "\n",
    "\n",
    "\n",
    "def xmas_times(grid, row, column):\n",
    "    times = 0\n",
    "    movements = [\"Up\", \"Down\", \"Left\", \"Right\", \"Up Left\", \"Up Right\", \"Down Left\", \"Down Right\"]\n",
    "\n",
    "    for movement in movements:\n",
    "        times += 1 if check_xmas(grid, row, column, \"X\", movement, 1) else 0  \n",
    "\n",
    "    return times\n",
    "\n",
    "\n",
    "\n",
    "xmas_counter = 0\n",
    "n, m = len(puzzle_lines), len(puzzle_lines[0])\n",
    "\n",
    "for i in range(n):\n",
    "    if m != len(puzzle_lines[i]):\n",
    "        raise ValueError(\"The length of all lines in the input must be uniform\")\n",
    "    \n",
    "    m = len(puzzle_lines[i])\n",
    "    for j in range(m):\n",
    "        if puzzle_lines[i][j] == 'X':\n",
    "            xmas_counter += xmas_times(puzzle_lines, i, j)\n",
    "\n",
    "xmas_counter"
   ]
  },
  {
   "cell_type": "markdown",
   "id": "1bec8624",
   "metadata": {},
   "source": [
    "### --- Part Two ---"
   ]
  },
  {
   "cell_type": "code",
   "execution_count": 4,
   "id": "f4dadcd9",
   "metadata": {},
   "outputs": [
    {
     "data": {
      "text/plain": [
       "1900"
      ]
     },
     "execution_count": 4,
     "metadata": {},
     "output_type": "execute_result"
    }
   ],
   "source": [
    "def X_mas_times(grid, row, column):\n",
    "    rows, columns = range(len(grid)), range(len(grid[0]))\n",
    "    times = 0\n",
    "    \n",
    "    row_neg, column_neg = row-2, column-2\n",
    "    if row_neg in rows and column_neg in columns:\n",
    "        if grid[row_neg][column_neg] == \"S\" and grid[row_neg+1][column_neg+1] == \"A\":\n",
    "            leftLetter_upLetter = f\"{grid[row][column_neg]}{grid[row_neg][column]}\"\n",
    "            if \"M\" in leftLetter_upLetter and \"S\" in leftLetter_upLetter:\n",
    "                times += 1\n",
    "\n",
    "    row_pos, column_pos = row+2, column+2\n",
    "    if row_pos in rows and column_pos in columns:\n",
    "        if grid[row_pos][column_pos] == \"S\" and grid[row_pos-1][column_pos-1] == \"A\":\n",
    "            rightLetter_downLetter = f\"{grid[row][column_pos]}{grid[row_pos][column]}\"\n",
    "            if \"M\" in rightLetter_downLetter and \"S\" in rightLetter_downLetter:\n",
    "                times += 1\n",
    "\n",
    "    return times\n",
    "\n",
    "\n",
    "\n",
    "n, m = len(puzzle_lines), len(puzzle_lines[0])\n",
    "for i in range(n):\n",
    "    if m != len(puzzle_lines[i]):\n",
    "        raise ValueError(\"The length of all lines in the input must be uniform\")\n",
    "    m = len(puzzle_lines[i])\n",
    "    \n",
    "X_mas_counter = 0\n",
    "for i in range(n):\n",
    "    for j in range(m):\n",
    "        if puzzle_lines[i][j] == 'M':\n",
    "            X_mas_counter += X_mas_times(puzzle_lines, i, j)\n",
    "\n",
    "X_mas_counter"
   ]
  }
 ],
 "metadata": {
  "kernelspec": {
   "display_name": "Python 3",
   "language": "python",
   "name": "python3"
  },
  "language_info": {
   "codemirror_mode": {
    "name": "ipython",
    "version": 3
   },
   "file_extension": ".py",
   "mimetype": "text/x-python",
   "name": "python",
   "nbconvert_exporter": "python",
   "pygments_lexer": "ipython3",
   "version": "3.12.5"
  }
 },
 "nbformat": 4,
 "nbformat_minor": 5
}
