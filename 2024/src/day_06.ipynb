{
 "cells": [
  {
   "cell_type": "markdown",
   "id": "13ad0953",
   "metadata": {},
   "source": [
    "# General input variables"
   ]
  },
  {
   "cell_type": "code",
   "execution_count": null,
   "id": "5d575103",
   "metadata": {},
   "outputs": [
    {
     "data": {
      "text/plain": [
       "16900"
      ]
     },
     "execution_count": 67,
     "metadata": {},
     "output_type": "execute_result"
    }
   ],
   "source": [
    "import copy\n",
    "\n",
    "with open(\"../inputs/06.txt\", \"r\") as file:\n",
    "    puzzle_input = file.readlines()\n",
    "\n",
    "puzzle_input = [line.strip() for line in puzzle_input]\n",
    "len(puzzle_input) * len(puzzle_input[0])"
   ]
  },
  {
   "cell_type": "markdown",
   "id": "dd5d33fb",
   "metadata": {},
   "source": [
    "### --- Part One ---"
   ]
  },
  {
   "cell_type": "code",
   "execution_count": 68,
   "id": "0e8d3bfc",
   "metadata": {},
   "outputs": [],
   "source": [
    "def guard_starting_point(grid: list[list[str]]) -> tuple[list[int], int]:\n",
    "    for i in range(len(grid)):\n",
    "        for j in range(len(grid[i])):\n",
    "            if grid[i][j] == '^' or grid[i][j] == 'V' or grid[i][j] == '>' or grid[i][j] == '<':\n",
    "                return ([i, j],  grid[i][j])\n",
    "            \n",
    "              \n",
    "def map_guard_path(grid: list[list[str]], position: list[int], direction: str) -> int:\n",
    "    guard_info = {'^': ('>', (-1, 0)),\n",
    "                  '>': ('V', (0, 1)),\n",
    "                  'V': ('<', (1, 0)),\n",
    "                  '<': ('^', (0, -1)),\n",
    "                  }\n",
    "    row, column = position[0], position[1]\n",
    "    steps = 0\n",
    "    \n",
    "    while True:\n",
    "        if row not in range(len(grid)) or column not in range(len(grid[0])):\n",
    "            return steps\n",
    "\n",
    "        if grid[row][column] == '#':\n",
    "            row, column = row - guard_info[direction][1][0], column - guard_info[direction][1][1]\n",
    "            direction = guard_info[direction][0]\n",
    "            row, column = row + guard_info[direction][1][0], column + guard_info[direction][1][1]\n",
    "            continue\n",
    "\n",
    "        if grid[row][column] != 'X':\n",
    "            steps += 1 \n",
    "            grid[row] = grid[row][:column] + 'X' + grid[row][column+1:]\n",
    "\n",
    "        row, column = row + guard_info[direction][1][0], column + guard_info[direction][1][1]\n"
   ]
  },
  {
   "cell_type": "code",
   "execution_count": 69,
   "id": "05cccd22",
   "metadata": {},
   "outputs": [
    {
     "data": {
      "text/plain": [
       "4752"
      ]
     },
     "execution_count": 69,
     "metadata": {},
     "output_type": "execute_result"
    }
   ],
   "source": [
    "guard_position, guard_direction = guard_starting_point(puzzle_input)\n",
    "mapped_grid = copy.deepcopy(puzzle_input)\n",
    "guard_steps = map_guard_path(mapped_grid, guard_position, guard_direction)\n",
    "guard_steps"
   ]
  },
  {
   "cell_type": "markdown",
   "id": "1bec8624",
   "metadata": {},
   "source": [
    "### --- Part Two ---"
   ]
  },
  {
   "cell_type": "code",
   "execution_count": 70,
   "id": "4d67e5ed",
   "metadata": {},
   "outputs": [],
   "source": [
    "def check_for_loops(grid: list[list[str]], position: list[int], direction: str) -> bool:\n",
    "    visited_obstructions = []\n",
    "    guard_info = {'^': ('>', (-1, 0)),\n",
    "                  '>': ('V', (0, 1)),\n",
    "                  'V': ('<', (1, 0)),\n",
    "                  '<': ('^', (0, -1)),\n",
    "                  }\n",
    "    row, column = position[0], position[1]\n",
    "\n",
    "    while True:\n",
    "        if row not in range(len(grid)) or column not in range(len(grid[0])):\n",
    "            return False\n",
    "\n",
    "        if grid[row][column] == '#':\n",
    "            if f\"{row},{column},{direction}\" in visited_obstructions:\n",
    "                return True\n",
    "            visited_obstructions.append(f\"{row},{column},{direction}\")\n",
    "            row, column = row - guard_info[direction][1][0], column - guard_info[direction][1][1]\n",
    "            direction = guard_info[direction][0]\n",
    "            row, column = row + guard_info[direction][1][0], column + guard_info[direction][1][1]\n",
    "            continue\n",
    "\n",
    "        row, column = row + guard_info[direction][1][0], column + guard_info[direction][1][1]\n",
    "\n",
    "def placed_obstructions(grid: list[list[str]], position: list[int], direction: str) -> int:\n",
    "    obstructions_placed = 0\n",
    "\n",
    "    for i in range(len(grid)):\n",
    "        for j in range(len(grid[0])):\n",
    "            if grid[i][j] == '.':\n",
    "                grid_copy = copy.deepcopy(grid)\n",
    "                grid_copy[i] = grid_copy[i][:j] + '#' + grid_copy[i][j+1:]\n",
    "                obstructions_placed += 1 if check_for_loops(grid_copy, position, direction) else 0\n",
    "\n",
    "    return obstructions_placed"
   ]
  },
  {
   "cell_type": "code",
   "execution_count": 72,
   "id": "0685e203",
   "metadata": {},
   "outputs": [
    {
     "data": {
      "text/plain": [
       "1719"
      ]
     },
     "execution_count": 72,
     "metadata": {},
     "output_type": "execute_result"
    }
   ],
   "source": [
    "directed_mapped_grid = copy.deepcopy(puzzle_input)\n",
    "possible_number_of_obstacles = placed_obstructions(directed_mapped_grid, guard_position, guard_direction)\n",
    "possible_number_of_obstacles"
   ]
  }
 ],
 "metadata": {
  "kernelspec": {
   "display_name": "Python 3",
   "language": "python",
   "name": "python3"
  },
  "language_info": {
   "codemirror_mode": {
    "name": "ipython",
    "version": 3
   },
   "file_extension": ".py",
   "mimetype": "text/x-python",
   "name": "python",
   "nbconvert_exporter": "python",
   "pygments_lexer": "ipython3",
   "version": "3.12.5"
  }
 },
 "nbformat": 4,
 "nbformat_minor": 5
}
