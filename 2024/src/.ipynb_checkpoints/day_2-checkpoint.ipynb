{
 "cells": [
  {
   "cell_type": "markdown",
   "id": "769dc230-17b2-42a4-bcb1-8691f3aafa53",
   "metadata": {},
   "source": [
    "# General input variables"
   ]
  },
  {
   "cell_type": "code",
   "execution_count": 312,
   "id": "bf567e22-520a-4334-a913-78d5250d7317",
   "metadata": {},
   "outputs": [],
   "source": [
    "puzzle_inputs = []\n",
    "with open(\"../inputs/02.txt\", 'r') as file:\n",
    "    for line in file:\n",
    "        puzzle_inputs.append(line.split())\n",
    "\n",
    "for line in puzzle_inputs:\n",
    "    for i, num in enumerate(line):\n",
    "        line[i] = int(num)"
   ]
  },
  {
   "cell_type": "markdown",
   "id": "38be4799-e962-48c9-8675-51fd86354590",
   "metadata": {},
   "source": [
    "### --- Part One ---"
   ]
  },
  {
   "cell_type": "code",
   "execution_count": 315,
   "id": "6c0df4df-2877-4bad-a274-4b4e3c782f96",
   "metadata": {},
   "outputs": [],
   "source": [
    "def is_differ_by_up_to_3(line):\n",
    "    for i in range(len(line) - 1):\n",
    "        if abs(line[i] - line[i+1]) > 3:\n",
    "            return False\n",
    "    return True\n",
    "\n",
    "def is_increasing_or_decreasing(line):\n",
    "    if len(line) == 0:\n",
    "        return is_differ_by_up_to_3(line)\n",
    "    escalator = 1 if line[0] < line[1] else -1 if line[0] > line[1] else 0\n",
    "    if escalator == 0:\n",
    "        return False\n",
    "    if escalator > 0:\n",
    "        for i in range(len(line) - 1):\n",
    "            if line[i] >= line[i+1]:\n",
    "                return False\n",
    "    else:\n",
    "        for i in range(len(line) - 1):\n",
    "            if line[i] <= line[i+1]:\n",
    "                return False\n",
    "    return is_differ_by_up_to_3(line)"
   ]
  },
  {
   "cell_type": "code",
   "execution_count": 317,
   "id": "9c1f456a-c594-4c3a-8098-f31033c53ded",
   "metadata": {},
   "outputs": [
    {
     "data": {
      "text/plain": [
       "639"
      ]
     },
     "execution_count": 317,
     "metadata": {},
     "output_type": "execute_result"
    }
   ],
   "source": [
    "safe_reports = 0\n",
    "\n",
    "for line in puzzle_inputs:\n",
    "    if is_increasing_or_decreasing(line):\n",
    "        safe_reports += 1\n",
    "\n",
    "safe_reports"
   ]
  },
  {
   "cell_type": "markdown",
   "id": "bc408032-26d9-4c2c-ba34-dd3f0ffbc982",
   "metadata": {},
   "source": [
    "### --- Part Two ---"
   ]
  },
  {
   "cell_type": "code",
   "execution_count": 327,
   "id": "4ecc547a-16d1-4013-a5aa-7b0093350ae5",
   "metadata": {},
   "outputs": [],
   "source": [
    "def is_increasing_or_decreasing_dampener(line):\n",
    "    if is_increasing_or_decreasing(line):\n",
    "        return True\n",
    "    \n",
    "    for i in range(len(line)):\n",
    "        if is_increasing_or_decreasing(line[:i] + line[i+1:]):\n",
    "            return True\n",
    "    return False"
   ]
  },
  {
   "cell_type": "code",
   "execution_count": 329,
   "id": "4c559b40-fcbe-4d84-aa17-8a713f023edb",
   "metadata": {},
   "outputs": [
    {
     "data": {
      "text/plain": [
       "674"
      ]
     },
     "execution_count": 329,
     "metadata": {},
     "output_type": "execute_result"
    }
   ],
   "source": [
    "safe_dampener_reports = 0\n",
    "\n",
    "for line in puzzle_inputs:\n",
    "    if is_increasing_or_decreasing_dampener(line):\n",
    "        safe_dampener_reports += 1\n",
    "\n",
    "safe_dampener_reports"
   ]
  },
  {
   "cell_type": "code",
   "execution_count": null,
   "id": "c66de95f-9d81-44aa-ba73-67a0f6d7408e",
   "metadata": {},
   "outputs": [],
   "source": []
  }
 ],
 "metadata": {
  "kernelspec": {
   "display_name": "Python 3 (ipykernel)",
   "language": "python",
   "name": "python3"
  },
  "language_info": {
   "codemirror_mode": {
    "name": "ipython",
    "version": 3
   },
   "file_extension": ".py",
   "mimetype": "text/x-python",
   "name": "python",
   "nbconvert_exporter": "python",
   "pygments_lexer": "ipython3",
   "version": "3.12.7"
  }
 },
 "nbformat": 4,
 "nbformat_minor": 5
}
