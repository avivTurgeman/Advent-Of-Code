{
 "cells": [
  {
   "cell_type": "markdown",
   "id": "13ad0953",
   "metadata": {},
   "source": [
    "https://adventofcode.com/2024/day/6\n",
    "# General input variables"
   ]
  },
  {
   "cell_type": "code",
   "execution_count": null,
   "id": "ea5723bf",
   "metadata": {},
   "outputs": [],
   "source": [
    "import os\n",
    "import sys\n",
    "notebook_dir = os.getcwd()\n",
    "sys.path.append(os.path.abspath(os.path.join(notebook_dir, '../../package')))\n",
    "import input_modules\n",
    "\n",
    "input_modules.write_input(2024, 5)"
   ]
  },
  {
   "cell_type": "code",
   "execution_count": 153,
   "id": "5d575103",
   "metadata": {},
   "outputs": [],
   "source": [
    "with open(\"../inputs/05.txt\", \"r\") as file:\n",
    "    puzzle_input = file.readlines()\n",
    "\n",
    "for i in range(len(puzzle_input)):\n",
    "    puzzle_input[i] = puzzle_input[i].strip()\n",
    "\n",
    "manual_rules = {}\n",
    "manual_updates = []\n",
    "\n",
    "for line in puzzle_input:\n",
    "    if \"|\" in line:\n",
    "        before, after = line.split(\"|\")\n",
    "        manual_rules[before] = [after] if before not in manual_rules else manual_rules[before] + [after]\n",
    "    else:\n",
    "        manual_updates.append(line)\n",
    "del manual_updates[0]"
   ]
  },
  {
   "cell_type": "markdown",
   "id": "dd5d33fb",
   "metadata": {},
   "source": [
    "### --- Part One ---"
   ]
  },
  {
   "cell_type": "code",
   "execution_count": 154,
   "id": "0e8d3bfc",
   "metadata": {},
   "outputs": [],
   "source": [
    "def rules_associate_to_update_counter(updates: list[str], rules: dict) -> list[dict]:\n",
    "    res = []\n",
    "\n",
    "    for update in updates:\n",
    "        pages = update.split(\",\")\n",
    "        update_rules_counter = {}\n",
    "\n",
    "        for page in pages:\n",
    "            update_rules_counter[page] = (len([x for x in rules[page] if x in pages] if page in rules else []))\n",
    "\n",
    "        res.append(update_rules_counter)\n",
    "\n",
    "    return res\n",
    "\n",
    "\n",
    "def classify_updates(updates: list[str], rules: dict) -> list[str]:\n",
    "    counter = rules_associate_to_update_counter(updates, rules)\n",
    "    correctly_ordered = []\n",
    "    wrongly_ordered = []\n",
    "\n",
    "    for update_info in counter:\n",
    "        if all(earlier > later for earlier, later in zip(list(update_info.values()), list(update_info.values())[1:])):\n",
    "            correctly_ordered.append(list(update_info.keys()))\n",
    "        else:\n",
    "            wrongly_ordered.append(update_info)\n",
    "\n",
    "    return correctly_ordered, wrongly_ordered"
   ]
  },
  {
   "cell_type": "code",
   "execution_count": 155,
   "id": "e51ddab8",
   "metadata": {},
   "outputs": [
    {
     "data": {
      "text/plain": [
       "7024"
      ]
     },
     "execution_count": 155,
     "metadata": {},
     "output_type": "execute_result"
    }
   ],
   "source": [
    "correctly_ordered_updates = classify_updates(manual_updates, manual_rules)[0]\n",
    "sum([int(update[len(update) // 2]) for update in correctly_ordered_updates])"
   ]
  },
  {
   "cell_type": "markdown",
   "id": "1bec8624",
   "metadata": {},
   "source": [
    "### --- Part Two ---"
   ]
  },
  {
   "cell_type": "code",
   "execution_count": 156,
   "id": "f4dadcd9",
   "metadata": {},
   "outputs": [
    {
     "data": {
      "text/plain": [
       "4151"
      ]
     },
     "execution_count": 156,
     "metadata": {},
     "output_type": "execute_result"
    }
   ],
   "source": [
    "wrongly_ordered_updates = classify_updates(manual_updates, manual_rules)[1]\n",
    "res = 0\n",
    "\n",
    "for update in wrongly_ordered_updates:\n",
    "    keys = list(update.keys())\n",
    "    vals = list(update.values())\n",
    "\n",
    "    position = vals.index(len(update)//2)\n",
    "    res += int(keys[position])\n",
    "\n",
    "res\n",
    "    "
   ]
  }
 ],
 "metadata": {
  "kernelspec": {
   "display_name": "Python 3",
   "language": "python",
   "name": "python3"
  },
  "language_info": {
   "codemirror_mode": {
    "name": "ipython",
    "version": 3
   },
   "file_extension": ".py",
   "mimetype": "text/x-python",
   "name": "python",
   "nbconvert_exporter": "python",
   "pygments_lexer": "ipython3",
   "version": "3.12.5"
  }
 },
 "nbformat": 4,
 "nbformat_minor": 5
}
