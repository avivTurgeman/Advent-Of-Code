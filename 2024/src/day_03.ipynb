{
 "cells": [
  {
   "cell_type": "markdown",
   "id": "ce55d487-32c7-46b1-be49-75053b012d69",
   "metadata": {},
   "source": [
    "# General input variables"
   ]
  },
  {
   "cell_type": "code",
   "execution_count": 2,
   "id": "5876c277-32fd-4fa1-a802-30bd6b97d1a9",
   "metadata": {},
   "outputs": [],
   "source": [
    "with open(\"../inputs/03.txt\", 'r') as file:\n",
    "    puzzle_input = file.read()"
   ]
  },
  {
   "cell_type": "markdown",
   "id": "2f87af1e-13eb-40d5-9151-7a06c1f4dc13",
   "metadata": {},
   "source": [
    "### --- Part One ---"
   ]
  },
  {
   "cell_type": "code",
   "execution_count": 3,
   "id": "e71d9151-7e5f-4303-9992-e4c6e6fd58ce",
   "metadata": {},
   "outputs": [
    {
     "data": {
      "text/plain": [
       "179571322"
      ]
     },
     "execution_count": 3,
     "metadata": {},
     "output_type": "execute_result"
    }
   ],
   "source": [
    "def good_inner(inner):\n",
    "    if inner.count(\",\") == 1:\n",
    "        r,l = inner.split(\",\")\n",
    "        if r.isdigit() and l.isdigit():\n",
    "            return True\n",
    "    return False\n",
    "\n",
    "def get_muls_result(string):\n",
    "    res = 0\n",
    "    for i in range(len(string)):\n",
    "        if string[i:i+4] == \"mul(\":\n",
    "            inner = \"\"\n",
    "            closed = False\n",
    "            i += 4\n",
    "            j = i\n",
    "            while not closed and j < i+8:\n",
    "                if string[j:j+1] == \")\":\n",
    "                    closed = True\n",
    "                else:\n",
    "                    inner += string[j:j+1]\n",
    "                j += 1\n",
    "            if closed and good_inner(inner):\n",
    "                r,l = inner.split(\",\")\n",
    "                r,l = int(r), int(l)\n",
    "    \n",
    "                res += r*l\n",
    "\n",
    "    return res\n",
    "    \n",
    "get_muls_result(puzzle_input)"
   ]
  },
  {
   "cell_type": "markdown",
   "id": "2dfd7e71-0f84-4aa6-8593-82fd619de122",
   "metadata": {},
   "source": [
    "#### gpt simpler implementation using the 're' library"
   ]
  },
  {
   "cell_type": "raw",
   "id": "2650227a-3987-451e-805d-92482961791d",
   "metadata": {},
   "source": [
    "import re\n",
    "\n",
    "# Regular expression to find valid `mul(X,Y)` patterns\n",
    "pattern = r\"mul\\((\\d+),(\\d+)\\)\"\n",
    "\n",
    "# Find all valid `mul` instructions\n",
    "matches = re.findall(pattern, puzzle_input)\n",
    "\n",
    "# Calculate the results\n",
    "result_sum = 0\n",
    "\n",
    "for x, y in matches:\n",
    "    x, y = int(x), int(y)\n",
    "    result_sum += x * y\n",
    "\n",
    "result_sum"
   ]
  },
  {
   "cell_type": "markdown",
   "id": "82f5e6cc-b5a0-445f-9cbb-f759699c95ae",
   "metadata": {},
   "source": [
    "### --- Part Two ---"
   ]
  },
  {
   "cell_type": "code",
   "execution_count": 9,
   "id": "84a04886-588f-47b7-b3c5-b6279d859c63",
   "metadata": {},
   "outputs": [
    {
     "data": {
      "text/plain": [
       "103811193"
      ]
     },
     "execution_count": 9,
     "metadata": {},
     "output_type": "execute_result"
    }
   ],
   "source": [
    "input_copy = puzzle_input\n",
    "mul_boundaries_result = 0\n",
    "\n",
    "while input_copy.find(\"don't()\") > 0:\n",
    "    dont_idx = input_copy.find(\"don't()\")\n",
    "    mul_boundaries_result += get_muls_result(input_copy[:dont_idx])\n",
    "    input_copy = input_copy[dont_idx:]\n",
    "    do_idx = input_copy.find(\"do()\")\n",
    "    input_copy = input_copy[do_idx:]\n",
    "\n",
    "mul_boundaries_result += get_muls_result(input_copy)\n",
    "mul_boundaries_result"
   ]
  },
  {
   "cell_type": "code",
   "execution_count": null,
   "id": "f977ca16",
   "metadata": {},
   "outputs": [],
   "source": []
  }
 ],
 "metadata": {
  "kernelspec": {
   "display_name": "base",
   "language": "python",
   "name": "python3"
  },
  "language_info": {
   "codemirror_mode": {
    "name": "ipython",
    "version": 3
   },
   "file_extension": ".py",
   "mimetype": "text/x-python",
   "name": "python",
   "nbconvert_exporter": "python",
   "pygments_lexer": "ipython3",
   "version": "3.12.7"
  }
 },
 "nbformat": 4,
 "nbformat_minor": 5
}
