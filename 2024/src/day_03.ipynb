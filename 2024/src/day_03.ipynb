{
 "cells": [
  {
   "cell_type": "markdown",
   "id": "ce55d487-32c7-46b1-be49-75053b012d69",
   "metadata": {},
   "source": [
    "https://adventofcode.com/2024/day/6\n",
    "# General input variables"
   ]
  },
  {
   "cell_type": "code",
   "execution_count": null,
   "id": "666ea198",
   "metadata": {},
   "outputs": [],
   "source": [
    "import os\n",
    "import sys\n",
    "notebook_dir = os.getcwd()\n",
    "sys.path.append(os.path.abspath(os.path.join(notebook_dir, '../../package')))\n",
    "import input_modules\n",
    "\n",
    "input_modules.write_input(2024, 3)"
   ]
  },
  {
   "cell_type": "code",
   "execution_count": 2,
   "id": "5876c277-32fd-4fa1-a802-30bd6b97d1a9",
   "metadata": {},
   "outputs": [],
   "source": [
    "with open(\"../inputs/03.txt\", 'r') as file:\n",
    "    puzzle_input = file.read()"
   ]
  },
  {
   "cell_type": "markdown",
   "id": "2f87af1e-13eb-40d5-9151-7a06c1f4dc13",
   "metadata": {},
   "source": [
    "### --- Part One ---"
   ]
  },
  {
   "cell_type": "code",
   "execution_count": 3,
   "id": "e71d9151-7e5f-4303-9992-e4c6e6fd58ce",
   "metadata": {},
   "outputs": [
    {
     "data": {
      "text/plain": [
       "179571322"
      ]
     },
     "execution_count": 3,
     "metadata": {},
     "output_type": "execute_result"
    }
   ],
   "source": [
    "def good_inner(inner):\n",
    "    if inner.count(\",\") == 1:\n",
    "        r,l = inner.split(\",\")\n",
    "        if r.isdigit() and l.isdigit():\n",
    "            return True\n",
    "    return False\n",
    "\n",
    "def get_muls_result(string):\n",
    "    res = 0\n",
    "    for i in range(len(string)):\n",
    "        if string[i:i+4] == \"mul(\":\n",
    "            inner = \"\"\n",
    "            closed = False\n",
    "            i += 4\n",
    "            j = i\n",
    "            while not closed and j < i+8:\n",
    "                if string[j:j+1] == \")\":\n",
    "                    closed = True\n",
    "                else:\n",
    "                    inner += string[j:j+1]\n",
    "                j += 1\n",
    "            if closed and good_inner(inner):\n",
    "                r,l = inner.split(\",\")\n",
    "                r,l = int(r), int(l)\n",
    "    \n",
    "                res += r*l\n",
    "\n",
    "    return res\n",
    "    \n",
    "get_muls_result(puzzle_input)"
   ]
  },
  {
   "cell_type": "markdown",
   "id": "82f5e6cc-b5a0-445f-9cbb-f759699c95ae",
   "metadata": {},
   "source": [
    "### --- Part Two ---"
   ]
  },
  {
   "cell_type": "code",
   "execution_count": 9,
   "id": "84a04886-588f-47b7-b3c5-b6279d859c63",
   "metadata": {},
   "outputs": [
    {
     "data": {
      "text/plain": [
       "103811193"
      ]
     },
     "execution_count": 9,
     "metadata": {},
     "output_type": "execute_result"
    }
   ],
   "source": [
    "input_copy = puzzle_input\n",
    "mul_boundaries_result = 0\n",
    "\n",
    "while input_copy.find(\"don't()\") > 0:\n",
    "    dont_idx = input_copy.find(\"don't()\")\n",
    "    mul_boundaries_result += get_muls_result(input_copy[:dont_idx])\n",
    "    input_copy = input_copy[dont_idx:]\n",
    "    do_idx = input_copy.find(\"do()\")\n",
    "    input_copy = input_copy[do_idx:]\n",
    "\n",
    "mul_boundaries_result += get_muls_result(input_copy)\n",
    "mul_boundaries_result"
   ]
  }
 ],
 "metadata": {
  "kernelspec": {
   "display_name": "Python 3",
   "language": "python",
   "name": "python3"
  },
  "language_info": {
   "codemirror_mode": {
    "name": "ipython",
    "version": 3
   },
   "file_extension": ".py",
   "mimetype": "text/x-python",
   "name": "python",
   "nbconvert_exporter": "python",
   "pygments_lexer": "ipython3",
   "version": "3.12.5"
  }
 },
 "nbformat": 4,
 "nbformat_minor": 5
}
