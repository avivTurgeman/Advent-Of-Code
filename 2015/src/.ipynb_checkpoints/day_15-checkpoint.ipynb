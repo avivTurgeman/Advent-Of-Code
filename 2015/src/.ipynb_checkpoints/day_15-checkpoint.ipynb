{
 "cells": [
  {
   "cell_type": "markdown",
   "id": "e918ffd7-bcbe-40b3-adc5-7cbf436c2774",
   "metadata": {},
   "source": [
    "# Getting puzzle input"
   ]
  },
  {
   "cell_type": "code",
   "execution_count": null,
   "id": "a34c9a4b-8cdb-4603-b694-bbe9d3b954d8",
   "metadata": {},
   "outputs": [],
   "source": [
    "with open(\"../inputs/15.txt\", 'r', encoding=\"utf-8\") as file:\n",
    "    puzzle_input = file.read()"
   ]
  },
  {
   "cell_type": "markdown",
   "id": "f8f66791-a70c-4094-9527-4985272f0212",
   "metadata": {},
   "source": [
    "### --- Part One ---"
   ]
  },
  {
   "cell_type": "code",
   "execution_count": null,
   "id": "5af66a14-9a87-41da-a521-7766c6fc9fec",
   "metadata": {},
   "outputs": [],
   "source": [
    "molecules_replacements = {}\n",
    "res = []\n",
    "\n",
    "for line in puzzle_input.strip().splitlines():\n",
    "    if '=>' in line:\n",
    "        l, r = line.split(\" => \")\n",
    "        if l not in molecules_replacements:\n",
    "            molecules_replacements[l] = []\n",
    "        molecules_replacements[l].append(r)\n",
    "    elif len(line) != 0:\n",
    "        for i in range(len(line)):\n",
    "            if line[i] in molecules_replacements:\n",
    "                for code in molecules_replacements[line[i]]:\n",
    "                    res.append(line[:i] + code + line[i+1:])\n",
    "            if i != len(line) - 1:\n",
    "                if line[i:i+2] in molecules_replacements:\n",
    "                    for code in molecules_replacements[line[i:i+2]]:\n",
    "                        res.append(line[:i] + code + line[i+2:])\n",
    "\n",
    "len(set(res))"
   ]
  }
 ],
 "metadata": {
  "kernelspec": {
   "display_name": "Python 3 (ipykernel)",
   "language": "python",
   "name": "python3"
  },
  "language_info": {
   "codemirror_mode": {
    "name": "ipython",
    "version": 3
   },
   "file_extension": ".py",
   "mimetype": "text/x-python",
   "name": "python",
   "nbconvert_exporter": "python",
   "pygments_lexer": "ipython3",
   "version": "3.12.7"
  }
 },
 "nbformat": 4,
 "nbformat_minor": 5
}
